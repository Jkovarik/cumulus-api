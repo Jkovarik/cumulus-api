{
 "cells": [
  {
   "cell_type": "code",
   "execution_count": 1,
   "metadata": {},
   "outputs": [],
   "source": [
    "from cumulus_api import CumulusApi\n",
    "cml = CumulusApi()"
   ]
  },
  {
   "cell_type": "markdown",
   "metadata": {},
   "source": [
    "## List all providers"
   ]
  },
  {
   "cell_type": "code",
   "execution_count": 2,
   "metadata": {},
   "outputs": [
    {
     "data": {
      "text/plain": [
       "{'meta': {'name': 'cumulus-api',\n",
       "  'stack': 'ghrcwuat',\n",
       "  'table': 'provider',\n",
       "  'limit': 10,\n",
       "  'page': 1,\n",
       "  'count': 2},\n",
       " 'results': [{'createdAt': 1585677090688,\n",
       "   'protocol': 'https',\n",
       "   'globalConnectionLimit': 10,\n",
       "   'host': 'www.nsstc.uah.edu',\n",
       "   'id': 'msut_provider',\n",
       "   'updatedAt': 1585677090688,\n",
       "   'timestamp': 1585677091477},\n",
       "  {'createdAt': 1584996538168,\n",
       "   'protocol': 's3',\n",
       "   'globalConnectionLimit': 10,\n",
       "   'host': 'ghrcwuat-private',\n",
       "   'id': 'private_bucket',\n",
       "   'updatedAt': 1584996538168,\n",
       "   'timestamp': 1584996538881}]}"
      ]
     },
     "execution_count": 2,
     "metadata": {},
     "output_type": "execute_result"
    }
   ],
   "source": [
    "cml.list_providers()"
   ]
  },
  {
   "cell_type": "markdown",
   "metadata": {},
   "source": [
    "## Get a provider"
   ]
  },
  {
   "cell_type": "code",
   "execution_count": 3,
   "metadata": {},
   "outputs": [
    {
     "data": {
      "text/plain": [
       "{'createdAt': 1585677090688,\n",
       " 'id': 'msut_provider',\n",
       " 'host': 'www.nsstc.uah.edu',\n",
       " 'globalConnectionLimit': 10,\n",
       " 'updatedAt': 1585677090688,\n",
       " 'protocol': 'https'}"
      ]
     },
     "execution_count": 3,
     "metadata": {},
     "output_type": "execute_result"
    }
   ],
   "source": [
    "cml.get_provider('msut_provider')"
   ]
  },
  {
   "cell_type": "markdown",
   "metadata": {},
   "source": [
    "## Create a provider"
   ]
  },
  {
   "cell_type": "code",
   "execution_count": 6,
   "metadata": {},
   "outputs": [
    {
     "data": {
      "text/plain": [
       "{'record': {'createdAt': 1588188145649,\n",
       "  'host': 'www.example.gov',\n",
       "  'id': 'MY_DAAC_SATELLITE',\n",
       "  'protocol': 'http',\n",
       "  'globalConnectionLimit': 10,\n",
       "  'updatedAt': 1588188145649},\n",
       " 'message': 'Record saved'}"
      ]
     },
     "execution_count": 6,
     "metadata": {},
     "output_type": "execute_result"
    }
   ],
   "source": [
    "data = {\n",
    "    \"host\": \"www.example.gov\",\n",
    "    \"id\": \"MY_DAAC_SATELLITE\",\n",
    "    \"protocol\": \"http\",\n",
    "    \"globalConnectionLimit\": 10\n",
    "}\n",
    "\n",
    "cml.create_provider(data=data)"
   ]
  },
  {
   "cell_type": "markdown",
   "metadata": {},
   "source": [
    "## Update a provider"
   ]
  },
  {
   "cell_type": "code",
   "execution_count": 9,
   "metadata": {},
   "outputs": [
    {
     "data": {
      "text/plain": [
       "{'createdAt': 1588188360017,\n",
       " 'host': 'www.example.gov',\n",
       " 'id': 'MY_DAAC_SATELLITE',\n",
       " 'protocol': 'https',\n",
       " 'globalConnectionLimit': 10,\n",
       " 'updatedAt': 1588188360017}"
      ]
     },
     "execution_count": 9,
     "metadata": {},
     "output_type": "execute_result"
    }
   ],
   "source": [
    "data ={\n",
    "    \"host\": \"www.example.gov\",\n",
    "    \"id\": \"MY_DAAC_SATELLITE\",\n",
    "    \"protocol\": \"https\",\n",
    "    \"globalConnectionLimit\": 10\n",
    "}\n",
    "cml.update_provider(data=data, provider_id=\"MY_DAAC_SATELLITE\")"
   ]
  },
  {
   "cell_type": "markdown",
   "metadata": {},
   "source": [
    "## Delete a provider"
   ]
  },
  {
   "cell_type": "code",
   "execution_count": 10,
   "metadata": {},
   "outputs": [
    {
     "data": {
      "text/plain": [
       "{'message': 'Record deleted'}"
      ]
     },
     "execution_count": 10,
     "metadata": {},
     "output_type": "execute_result"
    }
   ],
   "source": [
    "cml.delete_provider(provider_id=\"MY_DAAC_SATELLITE\")"
   ]
  },
  {
   "cell_type": "code",
   "execution_count": null,
   "metadata": {},
   "outputs": [],
   "source": []
  }
 ],
 "metadata": {
  "kernelspec": {
   "display_name": "Python 3",
   "language": "python",
   "name": "python3"
  },
  "language_info": {
   "codemirror_mode": {
    "name": "ipython",
    "version": 3
   },
   "file_extension": ".py",
   "mimetype": "text/x-python",
   "name": "python",
   "nbconvert_exporter": "python",
   "pygments_lexer": "ipython3",
   "version": "3.8.2"
  }
 },
 "nbformat": 4,
 "nbformat_minor": 4
}
