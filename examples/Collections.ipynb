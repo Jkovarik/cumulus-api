{
 "cells": [
  {
   "cell_type": "code",
   "execution_count": 1,
   "metadata": {},
   "outputs": [],
   "source": [
    "from cumulus_api import CumulusApi\n",
    "cml = CumulusApi()"
   ]
  },
  {
   "cell_type": "markdown",
   "metadata": {},
   "source": [
    "# List all collections ( Limit result to 32 --default to 1--)"
   ]
  },
  {
   "cell_type": "code",
   "execution_count": 3,
   "metadata": {},
   "outputs": [
    {
     "name": "stdout",
     "output_type": "stream",
     "text": [
      "{'meta': {'name': 'cumulus-api', 'stack': 'ghrcwuat', 'table': 'collection', 'limit': 3, 'page': 1, 'count': 8}, 'results': [{'process': 'opendap', 'sampleFileName': 'TRMM_LIS_BG.04.3_2015.091.98991.nc', 'dataType': 'lislipG', 'granuleIdExtraction': '^((TRMM_LIS).*)', 'reportToEms': True, 'version': '4', 'createdAt': 1587483943951, 'granuleId': '^(TRMM_LIS).*\\\\.nc$', 'provider_path': 'opendap-data/lislipG/', 'meta': {'metadata_extractor': [{'lon_var_key': 'bg_data_summary_lon', 'regex': '^(TRMM_LIS).*\\\\.nc$', 'module': 'netcdf', 'time_var_key': 'bg_data_summary_TAI93_time', 'lat_var_key': 'bg_data_summary_lat'}]}, 'name': 'lislipG', 'files': [{'bucket': 'public', 'regex': '^TRMM_LIS(.*).*\\\\.cmr.xml$', 'sampleFileName': 'TRMM_LIS_BG.04.3_2015.091.98991.nc.cmr.xml'}, {'bucket': 'protected', 'regex': '^TRMM_LIS_(.*).*\\\\.(nc|dmrpp)$', 'sampleFileName': 'TRMM_LIS_BG.04.3_2015.091.98991.nc.dmrpp'}], 'duplicateHandling': 'skip', 'updatedAt': 1587483943951, 'url_path': 'lislipG__4', 'timestamp': 1587483944384, 'stats': {'running': 0, 'completed': 110, 'failed': 0, 'total': 110}}, {'process': 'msut', 'sampleFileName': 'tltmonamg.1998_6.0', 'dataType': 'msutlt', 'granuleIdExtraction': '^((tlt|uah).*_6\\\\.(0\\\\.nc|0))', 'reportToEms': True, 'version': '6', 'createdAt': 1587483906189, 'granuleId': '^(tlt|uah).*_6\\\\.(0\\\\.nc|0)$', 'provider_path': '/public/msu/v6.0/tlt/', 'name': 'msutlt', 'files': [{'bucket': 'protected', 'regex': '^(tlt|uah).*_6(\\\\.0|\\\\.0\\\\.txt|\\\\.0\\\\.nc)$', 'sampleFileName': 'tltmonamg.1999_6.0'}, {'bucket': 'public', 'regex': '^(tlt|uah).*_6\\\\.0(\\\\.cmr|\\\\.nc\\\\.cmr|\\\\.txt\\\\.cmr)\\\\.xml$', 'sampleFileName': 'tltmonamg.1999_6.0.cmr.xml'}], 'duplicateHandling': 'skip', 'updatedAt': 1587483906189, 'url_path': 'msutlt__6', 'timestamp': 1587483907169, 'stats': {'running': 88, 'completed': 176, 'failed': 0, 'total': 264}}, {'process': 'msut', 'sampleFileName': 'tmtmonamg.1998_6.0', 'dataType': 'msutmt', 'granuleIdExtraction': '^((tmt|uah).*_6\\\\.(0\\\\.nc|0))', 'reportToEms': True, 'version': '6', 'createdAt': 1587483876061, 'granuleId': '^(tmt|uah).*_6\\\\.(0\\\\.nc|0)$', 'provider_path': '/public/msu/v6.0/tmt/', 'name': 'msutmt', 'files': [{'bucket': 'protected', 'regex': '^(tmt|uah).*_6(\\\\.0|\\\\.0\\\\.txt|\\\\.0\\\\.nc)$', 'sampleFileName': 'tmtmonamg.1999_6.0'}, {'bucket': 'public', 'regex': '^(tmt|uah).*_6\\\\.0(\\\\.cmr|\\\\.nc\\\\.cmr|\\\\.txt\\\\.cmr)\\\\.xml$', 'sampleFileName': 'tmtmonamg.1999_6.0.cmr.xml'}], 'duplicateHandling': 'skip', 'updatedAt': 1587483876061, 'url_path': 'msutmt__6', 'timestamp': 1587483876779, 'stats': {'running': 47, 'completed': 94, 'failed': 0, 'total': 141}}]}\n"
     ]
    }
   ],
   "source": [
    "collections = cml.list_collections(limit=3)\n",
    "print(collections)"
   ]
  },
  {
   "cell_type": "markdown",
   "metadata": {},
   "source": [
    "### Retrieve One specific collection"
   ]
  },
  {
   "cell_type": "code",
   "execution_count": 7,
   "metadata": {},
   "outputs": [
    {
     "data": {
      "text/plain": [
       "{'meta': {'name': 'cumulus-api',\n",
       "  'stack': 'ghrcwuat',\n",
       "  'table': 'collection',\n",
       "  'limit': 10,\n",
       "  'page': 1,\n",
       "  'count': 1},\n",
       " 'results': [{'process': 'opendap',\n",
       "   'sampleFileName': 'TRMM_LIS_BG.04.3_2015.091.98991.nc',\n",
       "   'dataType': 'lislipG',\n",
       "   'granuleIdExtraction': '^((TRMM_LIS).*)',\n",
       "   'reportToEms': True,\n",
       "   'version': '4',\n",
       "   'createdAt': 1587483943951,\n",
       "   'granuleId': '^(TRMM_LIS).*\\\\.nc$',\n",
       "   'provider_path': 'opendap-data/lislipG/',\n",
       "   'meta': {'metadata_extractor': [{'lon_var_key': 'bg_data_summary_lon',\n",
       "      'regex': '^(TRMM_LIS).*\\\\.nc$',\n",
       "      'module': 'netcdf',\n",
       "      'time_var_key': 'bg_data_summary_TAI93_time',\n",
       "      'lat_var_key': 'bg_data_summary_lat'}]},\n",
       "   'name': 'lislipG',\n",
       "   'files': [{'bucket': 'public',\n",
       "     'regex': '^TRMM_LIS(.*).*\\\\.cmr.xml$',\n",
       "     'sampleFileName': 'TRMM_LIS_BG.04.3_2015.091.98991.nc.cmr.xml'},\n",
       "    {'bucket': 'protected',\n",
       "     'regex': '^TRMM_LIS_(.*).*\\\\.(nc|dmrpp)$',\n",
       "     'sampleFileName': 'TRMM_LIS_BG.04.3_2015.091.98991.nc.dmrpp'}],\n",
       "   'duplicateHandling': 'skip',\n",
       "   'updatedAt': 1587483943951,\n",
       "   'url_path': 'lislipG__4',\n",
       "   'timestamp': 1587483944384,\n",
       "   'stats': {'running': 0, 'completed': 110, 'failed': 0, 'total': 110}}]}"
      ]
     },
     "execution_count": 7,
     "metadata": {},
     "output_type": "execute_result"
    }
   ],
   "source": [
    "collection = cml.list_collections(name=\"lislipG\", version=\"4\")\n",
    "collection"
   ]
  },
  {
   "cell_type": "markdown",
   "metadata": {},
   "source": [
    "### Retrieve a particular fields of a collection"
   ]
  },
  {
   "cell_type": "code",
   "execution_count": 9,
   "metadata": {},
   "outputs": [
    {
     "data": {
      "text/plain": [
       "{'meta': {'name': 'cumulus-api',\n",
       "  'stack': 'ghrcwuat',\n",
       "  'table': 'collection',\n",
       "  'limit': 10,\n",
       "  'page': 1,\n",
       "  'count': 1},\n",
       " 'results': [{'provider_path': 'opendap-data/lislipG/',\n",
       "   'granuleIdExtraction': '^((TRMM_LIS).*)',\n",
       "   'stats': {'running': 0, 'completed': 0, 'failed': 0, 'total': 0}}]}"
      ]
     },
     "execution_count": 9,
     "metadata": {},
     "output_type": "execute_result"
    }
   ],
   "source": [
    "collection = cml.list_collections(name=\"lislipG\", version=\"4\", fields=\"provider_path,granuleIdExtraction\")\n",
    "collection"
   ]
  },
  {
   "cell_type": "markdown",
   "metadata": {},
   "source": [
    "## Create a collection"
   ]
  },
  {
   "cell_type": "code",
   "execution_count": 10,
   "metadata": {},
   "outputs": [],
   "source": [
    "data = {\n",
    "\t\"name\": \"test\",\n",
    "\t\"version\": \"t0\",\n",
    "\t\"provider_path\": \"/\",\n",
    "\t\"duplicateHandling\": \"replace\",\n",
    "\t\"granuleId\": \"^.*$\",\n",
    "\t\"granuleIdExtraction\": \"^(.*)\",\n",
    "\t\"sampleFileName\": \"test_file.nc\",\n",
    "\t\"files\": [\n",
    "\t\t{\n",
    "\t\t\t\"bucket\": \"public\",\n",
    "\t\t\t\"regex\": \"^(.*).*\\\\.cmr.xml$\",\n",
    "\t\t\t\"sampleFileName\": \"test_file.nc.cmr.xml\"\n",
    "\t\t},\n",
    "\t\t{\n",
    "\t\t\t\"bucket\": \"protected\",\n",
    "\t\t\t\"regex\": \"^(.*).*\\\\.(nc|txt|hdf5)$\",\n",
    "\t\t\t\"sampleFileName\": \"test_file.hdf5\"\n",
    "\t\t}\n",
    "\t]\n",
    "}"
   ]
  },
  {
   "cell_type": "code",
   "execution_count": 11,
   "metadata": {},
   "outputs": [],
   "source": [
    "cml.create_collection(data=data)"
   ]
  },
  {
   "cell_type": "code",
   "execution_count": 12,
   "metadata": {},
   "outputs": [
    {
     "data": {
      "text/plain": [
       "{'message': 'Record saved',\n",
       " 'record': {'name': 'test',\n",
       "  'version': 't0',\n",
       "  'provider_path': '/',\n",
       "  'duplicateHandling': 'replace',\n",
       "  'granuleId': '^.*$',\n",
       "  'granuleIdExtraction': '^(.*)',\n",
       "  'sampleFileName': 'test_file.nc',\n",
       "  'files': [{'bucket': 'public',\n",
       "    'regex': '^(.*).*\\\\.cmr.xml$',\n",
       "    'sampleFileName': 'test_file.nc.cmr.xml'},\n",
       "   {'bucket': 'protected',\n",
       "    'regex': '^(.*).*\\\\.(nc|txt|hdf5)$',\n",
       "    'sampleFileName': 'test_file.hdf5'}]}}"
      ]
     },
     "execution_count": 12,
     "metadata": {},
     "output_type": "execute_result"
    }
   ],
   "source": [
    "new_collection"
   ]
  },
  {
   "cell_type": "code",
   "execution_count": 13,
   "metadata": {},
   "outputs": [
    {
     "data": {
      "text/plain": [
       "{'meta': {'name': 'cumulus-api',\n",
       "  'stack': 'ghrcwuat',\n",
       "  'table': 'collection',\n",
       "  'limit': 10,\n",
       "  'page': 1,\n",
       "  'count': 1},\n",
       " 'results': [{'createdAt': 1587834843024,\n",
       "   'granuleId': '^.*$',\n",
       "   'provider_path': '/',\n",
       "   'sampleFileName': 'test_file.nc',\n",
       "   'name': 'test',\n",
       "   'files': [{'bucket': 'public',\n",
       "     'regex': '^(.*).*\\\\.cmr.xml$',\n",
       "     'sampleFileName': 'test_file.nc.cmr.xml'},\n",
       "    {'bucket': 'protected',\n",
       "     'regex': '^(.*).*\\\\.(nc|txt|hdf5)$',\n",
       "     'sampleFileName': 'test_file.hdf5'}],\n",
       "   'granuleIdExtraction': '^(.*)',\n",
       "   'reportToEms': True,\n",
       "   'version': 't0',\n",
       "   'duplicateHandling': 'replace',\n",
       "   'updatedAt': 1587834843024,\n",
       "   'timestamp': 1587834845224,\n",
       "   'stats': {'running': 0, 'completed': 0, 'failed': 0, 'total': 0}}]}"
      ]
     },
     "execution_count": 13,
     "metadata": {},
     "output_type": "execute_result"
    }
   ],
   "source": [
    "cml.list_collections(name=\"test\", version=\"t0\")"
   ]
  },
  {
   "cell_type": "markdown",
   "metadata": {},
   "source": [
    "## Update Collection"
   ]
  },
  {
   "cell_type": "code",
   "execution_count": 14,
   "metadata": {},
   "outputs": [],
   "source": [
    "data = {\n",
    "\t\"name\": \"test\",\n",
    "\t\"version\": \"t0\",\n",
    "\t\"provider_path\": \"/\",\n",
    "\t\"duplicateHandling\": \"skip\",\n",
    "\t\"granuleId\": \"^.*$\",\n",
    "\t\"granuleIdExtraction\": \"^(.*)\",\n",
    "\t\"sampleFileName\": \"test_file.nc\",\n",
    "\t\"files\": [\n",
    "\t\t{\n",
    "\t\t\t\"bucket\": \"public\",\n",
    "\t\t\t\"regex\": \"^(.*).*\\\\.cmr.xml$\",\n",
    "\t\t\t\"sampleFileName\": \"test_file.nc.cmr.xml\"\n",
    "\t\t},\n",
    "\t\t{\n",
    "\t\t\t\"bucket\": \"protected\",\n",
    "\t\t\t\"regex\": \"^(.*).*\\\\.(nc|txt|hdf5)$\",\n",
    "\t\t\t\"sampleFileName\": \"test_file.hdf5\"\n",
    "\t\t}\n",
    "\t]\n",
    "}"
   ]
  },
  {
   "cell_type": "code",
   "execution_count": 15,
   "metadata": {},
   "outputs": [
    {
     "data": {
      "text/plain": [
       "{'createdAt': 1587835078418,\n",
       " 'name': 'test',\n",
       " 'version': 't0',\n",
       " 'provider_path': '/',\n",
       " 'duplicateHandling': 'skip',\n",
       " 'granuleId': '^.*$',\n",
       " 'granuleIdExtraction': '^(.*)',\n",
       " 'sampleFileName': 'test_file.nc',\n",
       " 'files': [{'bucket': 'public',\n",
       "   'regex': '^(.*).*\\\\.cmr.xml$',\n",
       "   'sampleFileName': 'test_file.nc.cmr.xml'},\n",
       "  {'bucket': 'protected',\n",
       "   'regex': '^(.*).*\\\\.(nc|txt|hdf5)$',\n",
       "   'sampleFileName': 'test_file.hdf5'}],\n",
       " 'updatedAt': 1587835078418,\n",
       " 'reportToEms': True}"
      ]
     },
     "execution_count": 15,
     "metadata": {},
     "output_type": "execute_result"
    }
   ],
   "source": [
    "cml.update_collection(name=\"test\", version=\"t0\", data=data)"
   ]
  },
  {
   "cell_type": "markdown",
   "metadata": {},
   "source": [
    "### Retrieve the updated field"
   ]
  },
  {
   "cell_type": "code",
   "execution_count": 17,
   "metadata": {
    "scrolled": true
   },
   "outputs": [
    {
     "data": {
      "text/plain": [
       "{'meta': {'name': 'cumulus-api',\n",
       "  'stack': 'ghrcwuat',\n",
       "  'table': 'collection',\n",
       "  'limit': 10,\n",
       "  'page': 1,\n",
       "  'count': 1},\n",
       " 'results': [{'duplicateHandling': 'skip',\n",
       "   'stats': {'running': 0, 'completed': 0, 'failed': 0, 'total': 0}}]}"
      ]
     },
     "execution_count": 17,
     "metadata": {},
     "output_type": "execute_result"
    }
   ],
   "source": [
    "cml.list_collections(name=\"test\", version=\"t0\", fields=\"duplicateHandling\")"
   ]
  },
  {
   "cell_type": "markdown",
   "metadata": {},
   "source": [
    "## Delete Collection"
   ]
  },
  {
   "cell_type": "code",
   "execution_count": 18,
   "metadata": {},
   "outputs": [
    {
     "data": {
      "text/plain": [
       "{'message': 'Record deleted'}"
      ]
     },
     "execution_count": 18,
     "metadata": {},
     "output_type": "execute_result"
    }
   ],
   "source": [
    " cml.delete_collection(name=\"test\", version=\"t0\")"
   ]
  },
  {
   "cell_type": "markdown",
   "metadata": {},
   "source": [
    "### Check the collection was deleted"
   ]
  },
  {
   "cell_type": "code",
   "execution_count": 19,
   "metadata": {},
   "outputs": [
    {
     "data": {
      "text/plain": [
       "{'meta': {'name': 'cumulus-api',\n",
       "  'stack': 'ghrcwuat',\n",
       "  'table': 'collection',\n",
       "  'limit': 10,\n",
       "  'page': 1,\n",
       "  'count': 0},\n",
       " 'results': []}"
      ]
     },
     "execution_count": 19,
     "metadata": {},
     "output_type": "execute_result"
    }
   ],
   "source": [
    "cml.list_collections(name=\"test\", version=\"t0\", fields=\"duplicateHandling\")"
   ]
  }
 ],
 "metadata": {
  "kernelspec": {
   "display_name": "Python 3",
   "language": "python",
   "name": "python3"
  },
  "language_info": {
   "codemirror_mode": {
    "name": "ipython",
    "version": 3
   },
   "file_extension": ".py",
   "mimetype": "text/x-python",
   "name": "python",
   "nbconvert_exporter": "python",
   "pygments_lexer": "ipython3",
   "version": "3.8.2"
  }
 },
 "nbformat": 4,
 "nbformat_minor": 2
}
